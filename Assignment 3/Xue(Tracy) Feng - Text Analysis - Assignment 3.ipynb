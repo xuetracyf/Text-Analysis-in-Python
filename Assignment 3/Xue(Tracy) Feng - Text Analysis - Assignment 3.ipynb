{
 "cells": [
  {
   "cell_type": "markdown",
   "id": "a9532482",
   "metadata": {},
   "source": [
    "## Text Analysis - Assignment 3\n",
    "## Xue (Tracy) Feng\n",
    "## Sep 22, 2022\n",
    "\n",
    "##### Extracting Real-Time Tweets about Tech Companies \n",
    "\n",
    "Extracting text data from various sources is an integral and very valuable part of text analytics. In this assignment, you will extract text from the Twitter API using either the Twitter API or Tweepy (a Python wrapper for the Twitter API). You will need to sign up for a Developer account (Essential level) to access the Twitter API. Note: You do not need to obtain an Academic account with Twitter to complete this assignment. You are welcome to do so, but you can do it with the Essential level. \n",
    "\n",
    "Below are some resources to get started with the Twitter API. You need to set up a Developer account (Essential access level) to complete the assignment.\n",
    "\n",
    "Set up a Twitter Developer account for API access:  [link](https://developer.twitter.com/en/docs/twitter-api/getting-started/getting-access-to-the-twitter-api)\n",
    "\n",
    "Making your first request to Twitter API: [link](https://developer.twitter.com/en/docs/tutorials/step-by-step-guide-to-making-your-first-request-to-the-twitter-api-v2)\n",
    "\n",
    "You must prepare a Jupyter notebook that contains all necessary code as well as Markdown text to explain each question and step of the process below, how it works, and what is happening. You will save the notebook as an HTML report and submit it to Canvas. The script should run without errors. You should use tables and/or visualizations to show your results when appropriate. There should not be any long raw output such as the full JSON response of the results."
   ]
  },
  {
   "cell_type": "markdown",
   "id": "df75e5f3",
   "metadata": {},
   "source": [
    "### Question 1\n",
    "\n",
    "##### Extract 100 Tweets in the past 7 days that @mention or hashtag Microsoft, Amazon, and Google (three separate API calls or using OR operator in the query)"
   ]
  },
  {
   "cell_type": "code",
   "execution_count": 2,
   "id": "3b0d0efb",
   "metadata": {},
   "outputs": [],
   "source": [
    "import requests"
   ]
  },
  {
   "cell_type": "code",
   "execution_count": 3,
   "id": "67657209",
   "metadata": {},
   "outputs": [],
   "source": [
    "def bearer_oauth(r):\n",
    "    \"\"\"\n",
    "    Method required by bearer token authentication.\n",
    "    \"\"\"\n",
    "\n",
    "    r.headers[\"Authorization\"] = \"Bearer AAAAAAAAAAAAAAAAAAAAABBnhQEAAAAAmj2TEQaHQWMXQnRUh7U3XkKbrcY%3DB7ojd6P5EYX3JvK3RiPumNBHJA1JO2i4CV4VrhplyoH7BumEVF\"\n",
    "    r.headers[\"User-Agent\"] = \"User\"\n",
    "    return r"
   ]
  },
  {
   "cell_type": "code",
   "execution_count": 4,
   "id": "4cb1fb8b",
   "metadata": {},
   "outputs": [],
   "source": [
    "# return the output of the request\n",
    "def getTweets(url, params, timeout=10):\n",
    "    return requests.get(url = url,\n",
    "            auth=bearer_oauth,\n",
    "            params=params,\n",
    "            timeout=timeout)"
   ]
  },
  {
   "cell_type": "code",
   "execution_count": 5,
   "id": "97050461",
   "metadata": {},
   "outputs": [],
   "source": [
    "### Set base URL and use requests library to issue get request\n",
    "# GET /2/tweets/search/recent\n",
    "# The recent search endpoint returns Tweets from the last seven days that match a search query.\n",
    "url = \"https://api.twitter.com/2/tweets/search/recent\"\n",
    "max_results = 100\n",
    "\n",
    "# 3 params based on what the question asks\n",
    "param_Amazon = {\"query\": '@Amazon' or 'Amazon',\n",
    "                 \"max_results\": max_results}\n",
    "param_Google = {\"query\": '@Google' or 'Google',\n",
    "                 \"max_results\": max_results}\n",
    "param_Microsoft = {\"query\": '@Microsoft' or 'Microsoft',\n",
    "                 \"max_results\": max_results}"
   ]
  },
  {
   "cell_type": "code",
   "execution_count": 6,
   "id": "9316a48f",
   "metadata": {},
   "outputs": [],
   "source": [
    "# Loop through and print text of all tweets\n",
    "def printTweets(r):\n",
    "    i = 1\n",
    "    for each in r.json()[\"data\"]:\n",
    "        print(f\"Tweet: {each['text']}\")\n",
    "        i += 1\n",
    "        if i > 10:\n",
    "           break"
   ]
  },
  {
   "cell_type": "markdown",
   "id": "cb9a99ff",
   "metadata": {},
   "source": [
    "#### The following output for Q1 shows only first 10 lines"
   ]
  },
  {
   "cell_type": "markdown",
   "id": "6315a1b2",
   "metadata": {},
   "source": [
    "#### 100 Tweets in the past 7 days that @mention or hashtag Amazon"
   ]
  },
  {
   "cell_type": "code",
   "execution_count": 7,
   "id": "756c53b2",
   "metadata": {
    "scrolled": false
   },
   "outputs": [
    {
     "name": "stdout",
     "output_type": "stream",
     "text": [
      "Tweet: Ziploc Snack Bags for On the Go Freshness, Grip 'n Seal Technology for Easier Grip, Open, and Close, 280 Count https://t.co/9jnsC6M7Rl via @amazon\n",
      "Tweet: RT @Laura_Rest23: Hello #teachertwitter! Please help me #clearthelist @amazon! I really need the storage clipboards to get myself organized…\n",
      "Tweet: Arabic Love Poetry from the Desert: Majnun Leyla, Arabic Text, Commentary and... https://t.co/PqYY1UiLcA via @amazon\n",
      "Tweet: RT @mark1952ind: THE BLACKBIRD THREAT by MARK SCANTLAND https://t.co/ytVdOkQnWY via @amazon\n",
      "Tweet: ASUS ゲーミングノートPC ROG Zephyrus G15 GA503RW (Ryzen 7 6800HS 32GB SSD 1TB 15.6型 RTX 3070 Ti Laptop GPU WQHD 240Hz エクリプスグレー ) GA503RW-R76R3070TEG 【日本正規代理店品】 https://t.co/KnZjHCuiIc @amazonより\n",
      "Tweet: Philips Norelco Multigroomer All-in-One Trimmer Series 7000, 23 Piece Mens Grooming Kit, Trimmer for Beard, Head, Body, and Face, NO BLADE OIL NEEDED, MG7750/49 https://t.co/rLvLFt1NuV via @amazon\n",
      "Tweet: This can’t be right? It’s not even new haha 😂 @AmazonUK #amazon #AmazonDeals @amazon @alexa99 https://t.co/Hwpypxi1uY\n",
      "Tweet: RT @amazonlabor: Success story: An @amazon worker/  ALU supporter at JFK8 was reinstated after being wrongfully terminated. Last week two o…\n",
      "Tweet: RT @TimArnzen: Devil's Due by Timothy Arnzen \n",
      "https://t.co/HblsHyLqP8 \n",
      "@amazon #99cents or #free with #KindleUnlimited #kindle #fiction #ho…\n",
      "Tweet: RT @CleoKingDesigns: Sometimes My Thoughts Overwhelm Me So I Write by Cleo King Designs King Desig... https://t.co/q8ZRRhqVhY via @amazon\n"
     ]
    }
   ],
   "source": [
    "# first 10 lines\n",
    "rA = getTweets(url, param_Amazon)\n",
    "printTweets(rA)"
   ]
  },
  {
   "cell_type": "markdown",
   "id": "af188b53",
   "metadata": {},
   "source": [
    "#### 100 Tweets in the past 7 days that @mention or hashtag Google"
   ]
  },
  {
   "cell_type": "code",
   "execution_count": 8,
   "id": "bb9caf12",
   "metadata": {
    "scrolled": true
   },
   "outputs": [
    {
     "name": "stdout",
     "output_type": "stream",
     "text": [
      "Tweet: RT @neli_she: اين طرح رو زدم و فرستادم برای @Google . امیدوارم رسیدگی کنن. لطفا ریتوییت کنید برسه به دستش.\n",
      "\n",
      "#مهسا_امینی \n",
      "#OpIran https://t.…\n",
      "Tweet: RT @neli_she: اين طرح رو زدم و فرستادم برای @Google . امیدوارم رسیدگی کنن. لطفا ریتوییت کنید برسه به دستش.\n",
      "\n",
      "#مهسا_امینی \n",
      "#OpIran https://t.…\n",
      "Tweet: RT @neli_she: اين طرح رو زدم و فرستادم برای @Google . امیدوارم رسیدگی کنن. لطفا ریتوییت کنید برسه به دستش.\n",
      "\n",
      "#مهسا_امینی \n",
      "#OpIran https://t.…\n",
      "Tweet: @Google Do you own your ens domain?\n",
      "Tweet: RT @neli_she: اين طرح رو زدم و فرستادم برای @Google . امیدوارم رسیدگی کنن. لطفا ریتوییت کنید برسه به دستش.\n",
      "\n",
      "#مهسا_امینی \n",
      "#OpIran https://t.…\n",
      "Tweet: RT @neli_she: اين طرح رو زدم و فرستادم برای @Google . امیدوارم رسیدگی کنن. لطفا ریتوییت کنید برسه به دستش.\n",
      "\n",
      "#مهسا_امینی \n",
      "#OpIran https://t.…\n",
      "Tweet: RT @neli_she: اين طرح رو زدم و فرستادم برای @Google . امیدوارم رسیدگی کنن. لطفا ریتوییت کنید برسه به دستش.\n",
      "\n",
      "#مهسا_امینی \n",
      "#OpIran https://t.…\n",
      "Tweet: @neli_she @Ali_khanix @Google If we don't have access to the internet on  Sunday We,want the freedom-loving people of Iran, don't insult sacred things and don't burn the Quran\n",
      "We want freedom of covering for everyone, we don't remove the hijab from people\n",
      " who do so are against us\n",
      "#مهسا_امینی\n",
      "#OpIran\n",
      "Jkqi\n",
      "Tweet: RT @Google: Looking to travel more sustainably? ✈️ Our Search tools can help you pick greener hotels, flights and train tickets. #WorldTour…\n",
      "Tweet: RT @neli_she: اين طرح رو زدم و فرستادم برای @Google . امیدوارم رسیدگی کنن. لطفا ریتوییت کنید برسه به دستش.\n",
      "\n",
      "#مهسا_امینی \n",
      "#OpIran https://t.…\n"
     ]
    }
   ],
   "source": [
    "rG = getTweets(url, param_Google)\n",
    "printTweets(rG)"
   ]
  },
  {
   "cell_type": "markdown",
   "id": "a0ca1059",
   "metadata": {},
   "source": [
    "#### 100 Tweets in the past 7 days that @mention or hashtag Microsoft"
   ]
  },
  {
   "cell_type": "code",
   "execution_count": 9,
   "id": "0bc6f586",
   "metadata": {},
   "outputs": [
    {
     "name": "stdout",
     "output_type": "stream",
     "text": [
      "Tweet: @MicrosoftHelps And yes, I know you will say its all @Apple's fault for changing their API, but that's between you and Apple...and if their API doesn't allow for a usable OneDrive system then don't use it (I mean, you have developers there @Microsoft, right?)\n",
      "\n",
      "Again, read the thread linked above\n",
      "Tweet: RT @FairGrowthCmte: We'd like to thank the guests who made @FairGrowthCmte's #CorporateResponsibility roundtable possible:\n",
      "\n",
      "🔹 @BizRoundtabl…\n",
      "Tweet: RT @jamesvgingerich: . @DuckDuckGo in hot water over hidden tracking agreement with @Microsoft. (Tech Radar) #Data #Privacy https://t.co/ov…\n",
      "Tweet: RT @exploitph: Glad to finally get my AS-REQ research out there. @Microsoft decided requesting ST's from the AS was by design so here's a c…\n",
      "Tweet: @Eaga11N @snovvcrash @Microsoft Thanks 👍\n",
      "Tweet: RT @GymGamerDad: This video explains reasons I’m done with @Xbox @Microsoft @XboxGamePass &amp; moving to PS5 &amp; @PlayStation \n",
      "\n",
      "https://t.co/BGy…\n",
      "Tweet: @exploitph @snovvcrash @Microsoft Homework for the Blue team then haha. Awesome research!\n",
      "Tweet: RT @ShadowArtLand1: Courageous ppl in Iran continue to protest but the regime wants to cut their voice off through shutting the Internet do…\n",
      "Tweet: . @DuckDuckGo in hot water over hidden tracking agreement with @Microsoft. (Tech Radar) #Data #Privacy https://t.co/ovWKPX0Pd7 https://t.co/YFAtRA4Qp7\n",
      "Tweet: RT @NovartisFDN: New York is the first city to be announced in the AI4HealthyCities Health Equity Network, a @NovartisFDN initiative that a…\n"
     ]
    }
   ],
   "source": [
    "rM = getTweets(url, param_Microsoft)\n",
    "printTweets(rM)"
   ]
  },
  {
   "cell_type": "markdown",
   "id": "7c9a3596",
   "metadata": {},
   "source": [
    "### Question 2\n",
    "##### Parse the results and create a dataframe that contains the raw text of the tweets. Process the text so that only lowercase letters remain."
   ]
  },
  {
   "cell_type": "code",
   "execution_count": 10,
   "id": "401c3e93",
   "metadata": {},
   "outputs": [],
   "source": [
    "import pandas as pd\n",
    "import numpy as np\n",
    "import re"
   ]
  },
  {
   "cell_type": "code",
   "execution_count": 11,
   "id": "7289ea9b",
   "metadata": {},
   "outputs": [],
   "source": [
    "# combine 3 tweet output from Q2 into one df\n",
    "tweets = [each[\"text\"] for each in rA.json()[\"data\"]] + \\\n",
    "         [each[\"text\"] for each in rG.json()[\"data\"]] + \\\n",
    "         [each[\"text\"] for each in rM.json()[\"data\"]]"
   ]
  },
  {
   "cell_type": "code",
   "execution_count": 12,
   "id": "aef6a1ed",
   "metadata": {},
   "outputs": [],
   "source": [
    "tweets_data = pd.DataFrame({\"tweets\": tweets})"
   ]
  },
  {
   "cell_type": "code",
   "execution_count": 13,
   "id": "9d90d345",
   "metadata": {
    "scrolled": true
   },
   "outputs": [
    {
     "name": "stdout",
     "output_type": "stream",
     "text": [
      "<class 'pandas.core.frame.DataFrame'>\n",
      "RangeIndex: 300 entries, 0 to 299\n",
      "Data columns (total 1 columns):\n",
      " #   Column  Non-Null Count  Dtype \n",
      "---  ------  --------------  ----- \n",
      " 0   tweets  300 non-null    object\n",
      "dtypes: object(1)\n",
      "memory usage: 2.5+ KB\n"
     ]
    }
   ],
   "source": [
    "tweets_data[[\"tweets\"]].info()"
   ]
  },
  {
   "cell_type": "code",
   "execution_count": 14,
   "id": "9af91862",
   "metadata": {},
   "outputs": [],
   "source": [
    "# text cleaning\n",
    "def process_tweets(t):\n",
    "    \n",
    "    t = t.lower()\n",
    "    t = re.sub(\"@[A-Za-z0-9]+\", \"\", t) # remove handles\n",
    "    t = re.sub(\"#[A-Za-z0-9]+\", \"\", t) # remove hashtags\n",
    "    t = re.sub(r\"http\\S+\", \"\", t)      # remove links (anything that doesn't have a space after http)\n",
    "    t = re.sub(r\"www.\\S+\", \"\", t)      # remove links\n",
    "    t = re.sub(\"[()!?]\", \"\", t)        # remove punctuation\n",
    "    t = re.sub(\"\\[.*?\\]\", \"\", t)       # remove puncutation\n",
    "    t = re.sub(\"[^a-z]\", \" \", t)\n",
    "    return t"
   ]
  },
  {
   "cell_type": "code",
   "execution_count": 15,
   "id": "955e8fea",
   "metadata": {},
   "outputs": [],
   "source": [
    "# apply the text cleaning function to the data and generate a new column called \"tweets_clean\"\n",
    "tweets_data[\"tweets_clean\"] = tweets_data[\"tweets\"].apply(process_tweets)"
   ]
  },
  {
   "cell_type": "code",
   "execution_count": 16,
   "id": "8f10b138",
   "metadata": {},
   "outputs": [],
   "source": [
    "# drop the original uncleaned column\n",
    "tweets_data = tweets_data.drop(columns=[\"tweets\"])"
   ]
  },
  {
   "cell_type": "code",
   "execution_count": 17,
   "id": "f640fedf",
   "metadata": {},
   "outputs": [
    {
     "data": {
      "text/html": [
       "<div>\n",
       "<style scoped>\n",
       "    .dataframe tbody tr th:only-of-type {\n",
       "        vertical-align: middle;\n",
       "    }\n",
       "\n",
       "    .dataframe tbody tr th {\n",
       "        vertical-align: top;\n",
       "    }\n",
       "\n",
       "    .dataframe thead th {\n",
       "        text-align: right;\n",
       "    }\n",
       "</style>\n",
       "<table border=\"1\" class=\"dataframe\">\n",
       "  <thead>\n",
       "    <tr style=\"text-align: right;\">\n",
       "      <th></th>\n",
       "      <th>tweets_clean</th>\n",
       "    </tr>\n",
       "  </thead>\n",
       "  <tbody>\n",
       "    <tr>\n",
       "      <th>0</th>\n",
       "      <td>ziploc snack bags for on the go freshness  gri...</td>\n",
       "    </tr>\n",
       "    <tr>\n",
       "      <th>1</th>\n",
       "      <td>rt  rest    hello  please help me   i really n...</td>\n",
       "    </tr>\n",
       "    <tr>\n",
       "      <th>2</th>\n",
       "      <td>arabic love poetry from the desert  majnun ley...</td>\n",
       "    </tr>\n",
       "    <tr>\n",
       "      <th>3</th>\n",
       "      <td>rt   the blackbird threat by mark scantland  via</td>\n",
       "    </tr>\n",
       "    <tr>\n",
       "      <th>4</th>\n",
       "      <td>asus         pc rog zephyrus g   ga   rw ryzen...</td>\n",
       "    </tr>\n",
       "    <tr>\n",
       "      <th>...</th>\n",
       "      <td>...</td>\n",
       "    </tr>\n",
       "    <tr>\n",
       "      <th>295</th>\n",
       "      <td>rt  alex    top tipps       loop beim      was...</td>\n",
       "    </tr>\n",
       "    <tr>\n",
       "      <th>296</th>\n",
       "      <td>ab  it will be great to bring verdansk ...</td>\n",
       "    </tr>\n",
       "    <tr>\n",
       "      <th>297</th>\n",
       "      <td>rt   glad to finally get my as req research ou...</td>\n",
       "    </tr>\n",
       "    <tr>\n",
       "      <th>298</th>\n",
       "      <td>rt   had a great time this morning at  ikoyi o...</td>\n",
       "    </tr>\n",
       "    <tr>\n",
       "      <th>299</th>\n",
       "      <td>rt     est  abordando studios japoneses    par...</td>\n",
       "    </tr>\n",
       "  </tbody>\n",
       "</table>\n",
       "<p>300 rows × 1 columns</p>\n",
       "</div>"
      ],
      "text/plain": [
       "                                          tweets_clean\n",
       "0    ziploc snack bags for on the go freshness  gri...\n",
       "1    rt  rest    hello  please help me   i really n...\n",
       "2    arabic love poetry from the desert  majnun ley...\n",
       "3    rt   the blackbird threat by mark scantland  via \n",
       "4    asus         pc rog zephyrus g   ga   rw ryzen...\n",
       "..                                                 ...\n",
       "295  rt  alex    top tipps       loop beim      was...\n",
       "296         ab  it will be great to bring verdansk ...\n",
       "297  rt   glad to finally get my as req research ou...\n",
       "298  rt   had a great time this morning at  ikoyi o...\n",
       "299  rt     est  abordando studios japoneses    par...\n",
       "\n",
       "[300 rows x 1 columns]"
      ]
     },
     "execution_count": 17,
     "metadata": {},
     "output_type": "execute_result"
    }
   ],
   "source": [
    "tweets_data"
   ]
  },
  {
   "cell_type": "markdown",
   "id": "835f3325",
   "metadata": {},
   "source": [
    "### Question 3\n",
    "##### Vectorize the raw text and determine the most frequent single word mentions in tweets for each company. Determine the most frequent two-word phrases mentioned."
   ]
  },
  {
   "cell_type": "code",
   "execution_count": 18,
   "id": "c3807c1a",
   "metadata": {},
   "outputs": [],
   "source": [
    "from sklearn.feature_extraction.text import CountVectorizer"
   ]
  },
  {
   "cell_type": "markdown",
   "id": "9279d832",
   "metadata": {},
   "source": [
    "a helper function for getting n-grams"
   ]
  },
  {
   "cell_type": "code",
   "execution_count": 19,
   "id": "18378898",
   "metadata": {},
   "outputs": [],
   "source": [
    "def get_ngrams(text, ngram_from=2, ngram_to=2, n=None, max_features=20000):\n",
    "    \n",
    "    vec = CountVectorizer(ngram_range = (ngram_from, ngram_to), \n",
    "                          max_features = max_features, \n",
    "                          stop_words='english').fit(text)\n",
    "    bag_of_words = vec.transform(text)\n",
    "    sum_words = bag_of_words.sum(axis = 0) \n",
    "    words_freq = [(word, sum_words[0, i]) for word, i in vec.vocabulary_.items()]\n",
    "    words_freq = sorted(words_freq, key = lambda x: x[1], reverse = True)\n",
    "   \n",
    "    return words_freq[:n]"
   ]
  },
  {
   "cell_type": "code",
   "execution_count": 20,
   "id": "e27876d9",
   "metadata": {},
   "outputs": [],
   "source": [
    "# a helper function to vectorize the raw text\n",
    "def vectorize(d, gram_name, ngram_from=1, ngram_to=1, n = 1):\n",
    "    unigrams = get_ngrams(d.squeeze(), ngram_from, ngram_to, n=1)\n",
    "    unigrams_df = pd.DataFrame(unigrams)\n",
    "    unigrams_df.columns=[gram_name, \"Frequency\"]\n",
    "    return unigrams_df.head()"
   ]
  },
  {
   "cell_type": "code",
   "execution_count": 21,
   "id": "40a6cb3e",
   "metadata": {
    "scrolled": false
   },
   "outputs": [
    {
     "data": {
      "text/html": [
       "<div>\n",
       "<style scoped>\n",
       "    .dataframe tbody tr th:only-of-type {\n",
       "        vertical-align: middle;\n",
       "    }\n",
       "\n",
       "    .dataframe tbody tr th {\n",
       "        vertical-align: top;\n",
       "    }\n",
       "\n",
       "    .dataframe thead th {\n",
       "        text-align: right;\n",
       "    }\n",
       "</style>\n",
       "<table border=\"1\" class=\"dataframe\">\n",
       "  <thead>\n",
       "    <tr style=\"text-align: right;\">\n",
       "      <th></th>\n",
       "      <th>Amazon Unigram</th>\n",
       "      <th>Frequency</th>\n",
       "    </tr>\n",
       "  </thead>\n",
       "  <tbody>\n",
       "    <tr>\n",
       "      <th>0</th>\n",
       "      <td>rt</td>\n",
       "      <td>17</td>\n",
       "    </tr>\n",
       "  </tbody>\n",
       "</table>\n",
       "</div>"
      ],
      "text/plain": [
       "  Amazon Unigram  Frequency\n",
       "0             rt         17"
      ]
     },
     "execution_count": 21,
     "metadata": {},
     "output_type": "execute_result"
    }
   ],
   "source": [
    "vectorize(tweets_data.iloc[:100], \"Amazon Unigram\")"
   ]
  },
  {
   "cell_type": "code",
   "execution_count": 22,
   "id": "5c372ce4",
   "metadata": {},
   "outputs": [
    {
     "data": {
      "text/html": [
       "<div>\n",
       "<style scoped>\n",
       "    .dataframe tbody tr th:only-of-type {\n",
       "        vertical-align: middle;\n",
       "    }\n",
       "\n",
       "    .dataframe tbody tr th {\n",
       "        vertical-align: top;\n",
       "    }\n",
       "\n",
       "    .dataframe thead th {\n",
       "        text-align: right;\n",
       "    }\n",
       "</style>\n",
       "<table border=\"1\" class=\"dataframe\">\n",
       "  <thead>\n",
       "    <tr style=\"text-align: right;\">\n",
       "      <th></th>\n",
       "      <th>Google Unigram</th>\n",
       "      <th>Frequency</th>\n",
       "    </tr>\n",
       "  </thead>\n",
       "  <tbody>\n",
       "    <tr>\n",
       "      <th>0</th>\n",
       "      <td>rt</td>\n",
       "      <td>85</td>\n",
       "    </tr>\n",
       "  </tbody>\n",
       "</table>\n",
       "</div>"
      ],
      "text/plain": [
       "  Google Unigram  Frequency\n",
       "0             rt         85"
      ]
     },
     "execution_count": 22,
     "metadata": {},
     "output_type": "execute_result"
    }
   ],
   "source": [
    "vectorize(tweets_data.iloc[100:200], \"Google Unigram\")"
   ]
  },
  {
   "cell_type": "code",
   "execution_count": 23,
   "id": "25c32986",
   "metadata": {},
   "outputs": [
    {
     "data": {
      "text/html": [
       "<div>\n",
       "<style scoped>\n",
       "    .dataframe tbody tr th:only-of-type {\n",
       "        vertical-align: middle;\n",
       "    }\n",
       "\n",
       "    .dataframe tbody tr th {\n",
       "        vertical-align: top;\n",
       "    }\n",
       "\n",
       "    .dataframe thead th {\n",
       "        text-align: right;\n",
       "    }\n",
       "</style>\n",
       "<table border=\"1\" class=\"dataframe\">\n",
       "  <thead>\n",
       "    <tr style=\"text-align: right;\">\n",
       "      <th></th>\n",
       "      <th>Microsoft Unigram</th>\n",
       "      <th>Frequency</th>\n",
       "    </tr>\n",
       "  </thead>\n",
       "  <tbody>\n",
       "    <tr>\n",
       "      <th>0</th>\n",
       "      <td>rt</td>\n",
       "      <td>46</td>\n",
       "    </tr>\n",
       "  </tbody>\n",
       "</table>\n",
       "</div>"
      ],
      "text/plain": [
       "  Microsoft Unigram  Frequency\n",
       "0                rt         46"
      ]
     },
     "execution_count": 23,
     "metadata": {},
     "output_type": "execute_result"
    }
   ],
   "source": [
    "vectorize(tweets_data.iloc[200:300], \"Microsoft Unigram\")"
   ]
  },
  {
   "cell_type": "code",
   "execution_count": 24,
   "id": "620210c8",
   "metadata": {
    "scrolled": true
   },
   "outputs": [
    {
     "data": {
      "text/html": [
       "<div>\n",
       "<style scoped>\n",
       "    .dataframe tbody tr th:only-of-type {\n",
       "        vertical-align: middle;\n",
       "    }\n",
       "\n",
       "    .dataframe tbody tr th {\n",
       "        vertical-align: top;\n",
       "    }\n",
       "\n",
       "    .dataframe thead th {\n",
       "        text-align: right;\n",
       "    }\n",
       "</style>\n",
       "<table border=\"1\" class=\"dataframe\">\n",
       "  <thead>\n",
       "    <tr style=\"text-align: right;\">\n",
       "      <th></th>\n",
       "      <th>Amazon Two-grams</th>\n",
       "      <th>Frequency</th>\n",
       "    </tr>\n",
       "  </thead>\n",
       "  <tbody>\n",
       "    <tr>\n",
       "      <th>0</th>\n",
       "      <td>cross stitch</td>\n",
       "      <td>11</td>\n",
       "    </tr>\n",
       "  </tbody>\n",
       "</table>\n",
       "</div>"
      ],
      "text/plain": [
       "  Amazon Two-grams  Frequency\n",
       "0     cross stitch         11"
      ]
     },
     "execution_count": 24,
     "metadata": {},
     "output_type": "execute_result"
    }
   ],
   "source": [
    "vectorize(tweets_data.iloc[:100], \"Amazon Two-grams\", 2, 2)"
   ]
  },
  {
   "cell_type": "code",
   "execution_count": 25,
   "id": "41df84d7",
   "metadata": {},
   "outputs": [
    {
     "data": {
      "text/html": [
       "<div>\n",
       "<style scoped>\n",
       "    .dataframe tbody tr th:only-of-type {\n",
       "        vertical-align: middle;\n",
       "    }\n",
       "\n",
       "    .dataframe tbody tr th {\n",
       "        vertical-align: top;\n",
       "    }\n",
       "\n",
       "    .dataframe thead th {\n",
       "        text-align: right;\n",
       "    }\n",
       "</style>\n",
       "<table border=\"1\" class=\"dataframe\">\n",
       "  <thead>\n",
       "    <tr style=\"text-align: right;\">\n",
       "      <th></th>\n",
       "      <th>Google Two-grams</th>\n",
       "      <th>Frequency</th>\n",
       "    </tr>\n",
       "  </thead>\n",
       "  <tbody>\n",
       "    <tr>\n",
       "      <th>0</th>\n",
       "      <td>rt looking</td>\n",
       "      <td>5</td>\n",
       "    </tr>\n",
       "  </tbody>\n",
       "</table>\n",
       "</div>"
      ],
      "text/plain": [
       "  Google Two-grams  Frequency\n",
       "0       rt looking          5"
      ]
     },
     "execution_count": 25,
     "metadata": {},
     "output_type": "execute_result"
    }
   ],
   "source": [
    "vectorize(tweets_data.iloc[100:200], \"Google Two-grams\", 2, 2)"
   ]
  },
  {
   "cell_type": "code",
   "execution_count": 26,
   "id": "9e55aff3",
   "metadata": {},
   "outputs": [
    {
     "data": {
      "text/html": [
       "<div>\n",
       "<style scoped>\n",
       "    .dataframe tbody tr th:only-of-type {\n",
       "        vertical-align: middle;\n",
       "    }\n",
       "\n",
       "    .dataframe tbody tr th {\n",
       "        vertical-align: top;\n",
       "    }\n",
       "\n",
       "    .dataframe thead th {\n",
       "        text-align: right;\n",
       "    }\n",
       "</style>\n",
       "<table border=\"1\" class=\"dataframe\">\n",
       "  <thead>\n",
       "    <tr style=\"text-align: right;\">\n",
       "      <th></th>\n",
       "      <th>Microsoft Two-grams</th>\n",
       "      <th>Frequency</th>\n",
       "    </tr>\n",
       "  </thead>\n",
       "  <tbody>\n",
       "    <tr>\n",
       "      <th>0</th>\n",
       "      <td>rt glad</td>\n",
       "      <td>11</td>\n",
       "    </tr>\n",
       "  </tbody>\n",
       "</table>\n",
       "</div>"
      ],
      "text/plain": [
       "  Microsoft Two-grams  Frequency\n",
       "0             rt glad         11"
      ]
     },
     "execution_count": 26,
     "metadata": {},
     "output_type": "execute_result"
    }
   ],
   "source": [
    "vectorize(tweets_data.iloc[200:300], \"Microsoft Two-grams\", 2, 2)"
   ]
  },
  {
   "cell_type": "markdown",
   "id": "929ea63a",
   "metadata": {},
   "source": [
    "### Question 4\n",
    "##### Create three plots showing the most frequent single word in the tweets about each company. Create three more plots showing the most frequent two or three word phrases in the tweets about each company."
   ]
  },
  {
   "cell_type": "code",
   "execution_count": 27,
   "id": "a82ff004",
   "metadata": {},
   "outputs": [],
   "source": [
    "from wordcloud import WordCloud\n",
    "import matplotlib.pyplot as plt"
   ]
  },
  {
   "cell_type": "markdown",
   "id": "be6bfdea",
   "metadata": {},
   "source": [
    "A helper function to generate a list of words with punctuations removed"
   ]
  },
  {
   "cell_type": "code",
   "execution_count": 28,
   "id": "3c6689fa",
   "metadata": {},
   "outputs": [],
   "source": [
    "def single_word_generator(d):\n",
    "    all_words = []\n",
    "    for column_name, s in d.iteritems():\n",
    "        # split the current sentence\n",
    "        temp_res = s.str.split()\n",
    "        # append each word to the list\n",
    "        for w in temp_res:\n",
    "            all_words.append(w)\n",
    "    return all_words"
   ]
  },
  {
   "cell_type": "markdown",
   "id": "e55d6fbb",
   "metadata": {},
   "source": [
    "A helper function to display a wordcloud"
   ]
  },
  {
   "cell_type": "code",
   "execution_count": 29,
   "id": "7c3a7a3a",
   "metadata": {},
   "outputs": [],
   "source": [
    "def word_cloud_generator(s):\n",
    "    wordcloud = WordCloud(background_color=\"white\", width = 1000, height = 500).generate(s)\n",
    "    plt.figure(figsize=(15,8))\n",
    "    plt.imshow(wordcloud)\n",
    "    plt.axis(\"off\")\n",
    "    plt.savefig(\"your_file_name\"+\".png\", bbox_inches='tight')\n",
    "    plt.show()\n",
    "    plt.close()"
   ]
  },
  {
   "cell_type": "markdown",
   "id": "525ae8f1",
   "metadata": {},
   "source": [
    "A helper function to plot the frequency with n-gram(s)"
   ]
  },
  {
   "cell_type": "code",
   "execution_count": 43,
   "id": "b9e6c621",
   "metadata": {},
   "outputs": [],
   "source": [
    "def plot_frequency(df, ngram_min=1, ngram_max=1, n=10):\n",
    "    \n",
    "    n_grams = get_ngrams(df.squeeze(), ngram_from=ngram_min, ngram_to=ngram_max, n=n)\n",
    "    n_grams_df = pd.DataFrame(n_grams)\n",
    "    n_grams_df.columns=[\"Grams\", \"Frequency\"]\n",
    "    n_grams_df = n_grams_df.sort_values(\"Frequency\", ascending=True)\n",
    "    plt.barh('Grams', 'Frequency', data=n_grams_df, height=0.8, color='orange')\n",
    "    plt.xlabel('Frequency')\n",
    "    plt.ylabel('Grams')\n",
    "    plt.rcParams.update({'font.size': 20})\n",
    "    return plt.show()"
   ]
  },
  {
   "cell_type": "markdown",
   "id": "09eb8dfb",
   "metadata": {},
   "source": [
    "Amazon - the most frequent single word in the tweets"
   ]
  },
  {
   "cell_type": "code",
   "execution_count": 44,
   "id": "4fbb7474",
   "metadata": {},
   "outputs": [
    {
     "data": {
      "image/png": "[encoded data removed]",
      "text/plain": [
       "<Figure size 432x288 with 1 Axes>"
      ]
     },
     "metadata": {
      "needs_background": "light"
     },
     "output_type": "display_data"
    }
   ],
   "source": [
    "plot_frequency(tweets_data.iloc[:100], 1, 1, 5)"
   ]
  },
  {
   "cell_type": "markdown",
   "id": "fdc6bdcc",
   "metadata": {},
   "source": [
    "Google - the most frequent single word in the tweets"
   ]
  },
  {
   "cell_type": "code",
   "execution_count": 45,
   "id": "bd357dd7",
   "metadata": {},
   "outputs": [
    {
     "data": {
      "image/png": "[encoded data removed]",
      "text/plain": [
       "<Figure size 432x288 with 1 Axes>"
      ]
     },
     "metadata": {
      "needs_background": "light"
     },
     "output_type": "display_data"
    }
   ],
   "source": [
    "plot_frequency(tweets_data.iloc[100:200], 1, 1, 5)"
   ]
  },
  {
   "cell_type": "markdown",
   "id": "637dc91d",
   "metadata": {},
   "source": [
    "Microsoft - the most frequent single word in the tweets"
   ]
  },
  {
   "cell_type": "code",
   "execution_count": 46,
   "id": "482bc296",
   "metadata": {},
   "outputs": [
    {
     "data": {
      "image/png": "[encoded data removed]",
      "text/plain": [
       "<Figure size 432x288 with 1 Axes>"
      ]
     },
     "metadata": {
      "needs_background": "light"
     },
     "output_type": "display_data"
    }
   ],
   "source": [
    "plot_frequency(tweets_data.iloc[200:300], 1, 1, 5)"
   ]
  },
  {
   "cell_type": "markdown",
   "id": "d2f49bad",
   "metadata": {},
   "source": [
    "Amazon - the most frequent three word phrases in the tweets"
   ]
  },
  {
   "cell_type": "code",
   "execution_count": 51,
   "id": "950b2f5c",
   "metadata": {},
   "outputs": [
    {
     "data": {
      "image/png": "[encoded data removed]",
      "text/plain": [
       "<Figure size 432x288 with 1 Axes>"
      ]
     },
     "metadata": {
      "needs_background": "light"
     },
     "output_type": "display_data"
    }
   ],
   "source": [
    "plot_frequency(tweets_data.iloc[:100], 2, 3, 5)"
   ]
  },
  {
   "cell_type": "markdown",
   "id": "7ee1b458",
   "metadata": {},
   "source": [
    "Google - the most frequent three word phrases in the tweets"
   ]
  },
  {
   "cell_type": "code",
   "execution_count": 53,
   "id": "03069518",
   "metadata": {},
   "outputs": [
    {
     "data": {
      "image/png": "[encoded data removed]",
      "text/plain": [
       "<Figure size 432x288 with 1 Axes>"
      ]
     },
     "metadata": {
      "needs_background": "light"
     },
     "output_type": "display_data"
    }
   ],
   "source": [
    "plot_frequency(tweets_data.iloc[100:200], 2, 3, 5)"
   ]
  },
  {
   "cell_type": "markdown",
   "id": "44ecbac9",
   "metadata": {},
   "source": [
    "Microsoft - - the most frequent three word phrases in the tweets"
   ]
  },
  {
   "cell_type": "code",
   "execution_count": 52,
   "id": "66d03484",
   "metadata": {},
   "outputs": [
    {
     "data": {
      "image/png": "[encoded data removed]",
      "text/plain": [
       "<Figure size 432x288 with 1 Axes>"
      ]
     },
     "metadata": {
      "needs_background": "light"
     },
     "output_type": "display_data"
    }
   ],
   "source": [
    "plot_frequency(tweets_data.iloc[200:300], 2, 3, 5)"
   ]
  },
  {
   "cell_type": "markdown",
   "id": "342d9b01",
   "metadata": {},
   "source": [
    "### Question 5\n",
    "##### Define a user defined function that takes one argument--company name--and returns a dataframe that contains a column of clean (lower case, letters only) text of tweets that @mention or hashtag the company passed to the function."
   ]
  },
  {
   "cell_type": "code",
   "execution_count": 37,
   "id": "95b44f7b",
   "metadata": {},
   "outputs": [],
   "source": [
    "# combined the seperated code from previous questions into a function\n",
    "def retrive_tweets(company):\n",
    "    url = \"https://api.twitter.com/2/tweets/search/recent\"\n",
    "    max_results = 100\n",
    "    param_Amazon = {\"query\": f'@{company}' or f'#{company}',\n",
    "                     \"max_results\": max_results}\n",
    "    r = getTweets(url, param_Amazon)\n",
    "    tweets = [each[\"text\"] for each in r.json()[\"data\"]]\n",
    "    tweets_data = pd.DataFrame({\"tweets\": tweets})\n",
    "    tweets_data[\"tweets_clean\"] = tweets_data[\"tweets\"].apply(process_tweets)\n",
    "    tweets_data = tweets_data.drop(columns=[\"tweets\"])\n",
    "    return tweets_data"
   ]
  },
  {
   "cell_type": "code",
   "execution_count": 38,
   "id": "2a8f8d77",
   "metadata": {},
   "outputs": [
    {
     "data": {
      "text/html": [
       "<div>\n",
       "<style scoped>\n",
       "    .dataframe tbody tr th:only-of-type {\n",
       "        vertical-align: middle;\n",
       "    }\n",
       "\n",
       "    .dataframe tbody tr th {\n",
       "        vertical-align: top;\n",
       "    }\n",
       "\n",
       "    .dataframe thead th {\n",
       "        text-align: right;\n",
       "    }\n",
       "</style>\n",
       "<table border=\"1\" class=\"dataframe\">\n",
       "  <thead>\n",
       "    <tr style=\"text-align: right;\">\n",
       "      <th></th>\n",
       "      <th>tweets_clean</th>\n",
       "    </tr>\n",
       "  </thead>\n",
       "  <tbody>\n",
       "    <tr>\n",
       "      <th>0</th>\n",
       "      <td>it s amazingly frustrating my ...</td>\n",
       "    </tr>\n",
       "    <tr>\n",
       "      <th>1</th>\n",
       "      <td>rt</td>\n",
       "    </tr>\n",
       "    <tr>\n",
       "      <th>2</th>\n",
       "      <td>tangina nyo   wala naman akong ginagawang masa...</td>\n",
       "    </tr>\n",
       "    <tr>\n",
       "      <th>3</th>\n",
       "      <td>get in touch with  on twitter ...</td>\n",
       "    </tr>\n",
       "    <tr>\n",
       "      <th>4</th>\n",
       "      <td>so sorry about that i know a cousin who work...</td>\n",
       "    </tr>\n",
       "    <tr>\n",
       "      <th>...</th>\n",
       "      <td>...</td>\n",
       "    </tr>\n",
       "    <tr>\n",
       "      <th>95</th>\n",
       "      <td>hey if you lost your account don t rely on ...</td>\n",
       "    </tr>\n",
       "    <tr>\n",
       "      <th>96</th>\n",
       "      <td>t    i suggest you message agent michael  cod...</td>\n",
       "    </tr>\n",
       "    <tr>\n",
       "      <th>97</th>\n",
       "      <td>you shouldn t panic contact ronald coding o...</td>\n",
       "    </tr>\n",
       "    <tr>\n",
       "      <th>98</th>\n",
       "      <td>you can reach out to  he helped me recovere...</td>\n",
       "    </tr>\n",
       "    <tr>\n",
       "      <th>99</th>\n",
       "      <td>with the experience i had  i suggest you co...</td>\n",
       "    </tr>\n",
       "  </tbody>\n",
       "</table>\n",
       "<p>100 rows × 1 columns</p>\n",
       "</div>"
      ],
      "text/plain": [
       "                                         tweets_clean\n",
       "0                   it s amazingly frustrating my ...\n",
       "1                                       rt           \n",
       "2   tangina nyo   wala naman akong ginagawang masa...\n",
       "3                   get in touch with  on twitter ...\n",
       "4     so sorry about that i know a cousin who work...\n",
       "..                                                ...\n",
       "95     hey if you lost your account don t rely on ...\n",
       "96   t    i suggest you message agent michael  cod...\n",
       "97     you shouldn t panic contact ronald coding o...\n",
       "98     you can reach out to  he helped me recovere...\n",
       "99     with the experience i had  i suggest you co...\n",
       "\n",
       "[100 rows x 1 columns]"
      ]
     },
     "execution_count": 38,
     "metadata": {},
     "output_type": "execute_result"
    }
   ],
   "source": [
    "# test for Facebook\n",
    "retrive_tweets('Facebook')"
   ]
  },
  {
   "cell_type": "code",
   "execution_count": null,
   "id": "ba54e255",
   "metadata": {},
   "outputs": [],
   "source": []
  }
 ],
 "metadata": {
  "kernelspec": {
   "display_name": "Python 3",
   "language": "python",
   "name": "python3"
  },
  "language_info": {
   "codemirror_mode": {
    "name": "ipython",
    "version": 3
   },
   "file_extension": ".py",
   "mimetype": "text/x-python",
   "name": "python",
   "nbconvert_exporter": "python",
   "pygments_lexer": "ipython3",
   "version": "3.8.8"
  }
 },
 "nbformat": 4,
 "nbformat_minor": 5
}
